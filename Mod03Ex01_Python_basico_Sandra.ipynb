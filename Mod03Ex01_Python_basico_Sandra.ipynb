{
  "cells": [
    {
      "cell_type": "markdown",
      "metadata": {
        "id": "q8QT4FjI6WFW"
      },
      "source": [
        "# Tarefa 01\n",
        "\n",
        "- Leia os enunciados com atenção\n",
        "- Saiba que pode haver mais de uma resposta correta\n",
        "- Insira novas células de código sempre que achar necessário\n",
        "- Em caso de dúvidas, procure os tutores\n",
        "- Divirta-se :)"
      ]
    },
    {
      "cell_type": "markdown",
      "metadata": {
        "id": "7xQaWpVO6WFX"
      },
      "source": [
        "### 01 - Teste de gravidez\n",
        "Escreva uma célula com controle de fluxos que tem como premissa a existência das seguintes variáveis:\n",
        "\n",
        "- ```sexo``` como ```str``` indicando os valores '**M**' para masculino e '**F**' para feminino  \n",
        "- ```beta_hcg``` que indica a quantidade do beta-HCG no sangue em mUI/mL.\n",
        "\n",
        "A sua tarefa é escrever um código que imprima como resultado \"indivíduo do sexo masculino\" quando sexo = 'M', caso sexo = 'F', se o valor de beta-HCG for maior que 5, retorne \"Positivo\" indicando que a paciente está grávida, e retorne \"Negativo\" caso contrário.\n",
        "\n",
        "Não mexa nos valores da variável ```sexo``` nem em ```beta_hcg```, e escreva um código que funcione para quaisquer valores possíveis de ambos: ```sexo``` = '**M**' ou '**F**' e ```beta_hcg``` assumindo valores inteiros positivos."
      ]
    },
    {
      "cell_type": "code",
      "execution_count": 49,
      "metadata": {
        "colab": {
          "base_uri": "https://localhost:8080/"
        },
        "id": "NLJxkOm06WFX",
        "outputId": "24304953-72d4-4880-c614-9e211fc531d9"
      },
      "outputs": [
        {
          "output_type": "stream",
          "name": "stdout",
          "text": [
            "Este é um teste de grávidez! Para saber se o paciente está grávida primeiro precisamos saber o seu genero! Digite M para masculino e F para feminino!F\n",
            "Otimo! Podemos prosseguir.\n",
            "Qual o resultado do seu teste de Beta HCG? Digite o resultado numerico!10\n",
            "O resultado é positivo! A paciente está grávida.\n"
          ]
        }
      ],
      "source": [
        "sexo = 'M'\n",
        "beta_hcg = 0\n",
        "\n",
        "# seu código vem abaixo desta linha\n",
        "\n",
        "\n",
        "prompt1=input('Este é um teste de grávidez! Para saber se o paciente está grávida primeiro precisamos saber o seu genero! Digite M para masculino e F para feminino!').upper()\n",
        "\n",
        "if prompt1 == sexo:\n",
        "  beta_hcg = 0\n",
        "                   \n",
        "if prompt1 != sexo:\n",
        "  print('Otimo! Podemos prosseguir.')\n",
        "\n",
        "  beta_hcg=input('Qual o resultado do seu teste de Beta HCG? Digite o resultado numerico!')\n",
        "    \n",
        "  beta_hcg = int(beta_hcg)\n",
        "            \n",
        "  if beta_hcg >=5:\n",
        "    print ('O resultado é positivo! A paciente está grávida.')\n",
        "    \n",
        "else:\n",
        "  print('O resultado é negativo!')\n",
        "                                  "
      ]
    },
    {
      "cell_type": "markdown",
      "metadata": {
        "id": "85MKWeNn6WFZ"
      },
      "source": [
        "### 02 - Renomeando variáveis\n",
        "\n",
        "Vamos ver adiante que uma forma de renomear variáveis de um conjunto de dados é através de dicionários - o dicionário deve conter como chave o nome original, associando a cada chave um único valor (tipo *str*) que contenha o nome novo.\n",
        "\n",
        "A sua tarefa é escrever um dicionário que possa ser utilizado para traduzir as variáveis ```name``` (nome), ```age``` (idade) e ```income``` (renda). Ou seja, esse dicionário deve relacionar as chaves *name, age* e *income* às suas respectivas traduções."
      ]
    },
    {
      "cell_type": "code",
      "execution_count": 2,
      "metadata": {
        "id": "UBOOsi1C6WFZ",
        "outputId": "bcbc0e59-78c2-44c9-a62f-738abb441287",
        "colab": {
          "base_uri": "https://localhost:8080/"
        }
      },
      "outputs": [
        {
          "output_type": "stream",
          "name": "stdout",
          "text": [
            "{'name': 'Sandra', 'age': '31', 'income': '1234'}\n",
            "{'name': 'Costa', 'age': '32', 'income': '5678'}\n"
          ]
        }
      ],
      "source": [
        "dic_renomeacao = {'name': 'Sandra', 'age': '31', 'income': '1234'}\n",
        "print(dic_renomeacao)\n",
        "\n",
        "dic_renomeacao = {'name': 'Costa', 'age': '32', 'income': '5678'}\n",
        "\n",
        "print(dic_renomeacao)"
      ]
    },
    {
      "cell_type": "markdown",
      "metadata": {
        "id": "dKRsr4436WFZ"
      },
      "source": [
        "### 03 - É divisível?\n",
        "A sua tarefa é escrever um código que indique se um número ```N``` é divisível por um número P. Escreva um programa que faça essa verificação para quaisquer combinações de ```N``` e ```M``` e devolva uma mensagem indicativa no output."
      ]
    },
    {
      "cell_type": "code",
      "execution_count": 3,
      "metadata": {
        "colab": {
          "base_uri": "https://localhost:8080/"
        },
        "id": "XkfTedMg6WFZ",
        "outputId": "4d15b225-ced7-41a2-9d10-94fe0dd0adf8"
      },
      "outputs": [
        {
          "output_type": "stream",
          "name": "stdout",
          "text": [
            "6.0\n"
          ]
        }
      ],
      "source": [
        "N = 42\n",
        "M = 7\n",
        "\n",
        "#Seu código\n",
        "\n",
        "P = N / M\n",
        "\n",
        "print (P)\n"
      ]
    },
    {
      "cell_type": "markdown",
      "metadata": {
        "id": "rOnIhsVe6WFa"
      },
      "source": [
        "### 04 - Números primos\n",
        "> Um número **N** é primo se e somente se é divisível por 1, -1, por **N** e por -**N**.  \n",
        "\n",
        "Escreva um script que verifica se ```N``` é um número primo, verificando se ```N``` é divisível por todos os números de ```1``` a ```N-1```. Você vai precisar usar alguma ferramenta de *loop* que você aprendeu para isto. No final, devolva uma mensagem no output indicando se o número é primo ou não."
      ]
    },
    {
      "cell_type": "code",
      "execution_count": 4,
      "metadata": {
        "colab": {
          "base_uri": "https://localhost:8080/"
        },
        "id": "V8hVgExr6WFa",
        "outputId": "d0d18e7a-f5cf-47ad-820c-7fe2a5dd0cc1"
      },
      "outputs": [
        {
          "output_type": "stream",
          "name": "stdout",
          "text": [
            "primo\n"
          ]
        }
      ],
      "source": [
        "N = 47\n",
        "\n",
        "# seu código abaixo\n",
        "\n",
        "ePrimo = 0\n",
        "\n",
        "for i in range(1, (N + 1)):        \n",
        "  if N % i == 0:\n",
        "    ePrimo += 1\n",
        "    \n",
        "if ePrimo  == 2 :\n",
        "  print('primo')\n",
        "else:\n",
        "  print('nao primo')\n"
      ]
    },
    {
      "cell_type": "markdown",
      "metadata": {
        "id": "enL-hK5t6WFa"
      },
      "source": [
        "### 05 - Desafio\n",
        "O algorítmo do exercício anterior não é o mais eficiente. O que você pode fazer para deixá-lo mais eficiente? Ou seja, executar menos comparações, portanto consumir menos tempo.\n",
        "1. Será que precisamos correr o loop até o final sempre?\n",
        "2. Será que precisamos mesmo verificar **todos** os números?\n",
        "3. Será que precisamos ir até N-1?\n",
        "\n",
        "Essas perguntas levam ao tipo de pensamento voltado a deixar um algoritmo mais eficiente. Veja se você consegue melhorar o seu."
      ]
    },
    {
      "cell_type": "code",
      "execution_count": 5,
      "metadata": {
        "id": "2Q2iDE1b6WFa",
        "outputId": "3f08f3cf-1286-498e-e64d-9c9c4ed39c39",
        "colab": {
          "base_uri": "https://localhost:8080/"
        }
      },
      "outputs": [
        {
          "output_type": "stream",
          "name": "stdout",
          "text": [
            "nao primo\n"
          ]
        }
      ],
      "source": [
        "N = 98\n",
        "\n",
        "# seu código aqui\n",
        "\n",
        "ePrimo = 0\n",
        "\n",
        "for i in (1, int( N/2)+1):        \n",
        "  if N % i == 0:\n",
        "    ePrimo += 1\n",
        "    \n",
        "if ePrimo  == 2 :\n",
        "  print('primo')\n",
        "else:\n",
        "  print('nao primo')"
      ]
    },
    {
      "cell_type": "markdown",
      "metadata": {
        "id": "eOdY4pdE6WFb"
      },
      "source": [
        "### 06 - Peso ideal 1\n",
        "O IMC (índice de massa corpórea) é um indicador de saúde mais bem aceito que o peso. Ele é calculado como:\n",
        "\n",
        "$$ IMC = \\dfrac{peso}{altura^2}$$\n",
        "\n",
        "Segundo a OMS, valores *normais* são entre 18.5 e 24.9.\n",
        "\n",
        "Sua tarefa é encontrar o ponto médio dessa faixa."
      ]
    },
    {
      "cell_type": "code",
      "execution_count": 6,
      "metadata": {
        "colab": {
          "base_uri": "https://localhost:8080/"
        },
        "id": "UG1JWjMK6WFb",
        "outputId": "e600700e-5cb6-40b0-993a-e77a4f8ab499"
      },
      "outputs": [
        {
          "output_type": "execute_result",
          "data": {
            "text/plain": [
              "21.7"
            ]
          },
          "metadata": {},
          "execution_count": 6
        }
      ],
      "source": [
        "imc_ideal = (18.5 +24.9)/2\n",
        "imc_ideal"
      ]
    },
    {
      "cell_type": "markdown",
      "metadata": {
        "id": "20EDxeYs6WFb"
      },
      "source": [
        "### 07 - Peso ideal 2\n",
        "Recebendo um valor de altura, encontre o peso '*ideal*' dessa pessoa, que fornece o IMC encontrado acima"
      ]
    },
    {
      "cell_type": "code",
      "execution_count": 7,
      "metadata": {
        "colab": {
          "base_uri": "https://localhost:8080/"
        },
        "id": "sCsiEjyG6WFb",
        "outputId": "8ddecf26-dc62-4fe4-f9d9-d54aee4c1482"
      },
      "outputs": [
        {
          "output_type": "execute_result",
          "data": {
            "text/plain": [
              "62.712999999999994"
            ]
          },
          "metadata": {},
          "execution_count": 7
        }
      ],
      "source": [
        "altura = 1.70\n",
        "\n",
        "# Seu código\n",
        "peso_ideal = imc_ideal * (altura**2)\n",
        "peso_ideal"
      ]
    },
    {
      "cell_type": "markdown",
      "metadata": {
        "id": "fqtBays36WFb"
      },
      "source": [
        "### 08 - Peso ideal 3\n",
        "Dada uma lista contendo as alturas de pacientes, crie uma nova lista que contenha o peso '*ideal*' (que fornece o IMC calculado em **Peso ideal 1**) desses pacientes."
      ]
    },
    {
      "cell_type": "code",
      "execution_count": 11,
      "metadata": {
        "colab": {
          "base_uri": "https://localhost:8080/"
        },
        "id": "nW0IUSLY6WFc",
        "outputId": "678f4d7a-6e4b-41e6-c02f-44e07ba680b2"
      },
      "outputs": [
        {
          "output_type": "stream",
          "name": "stdout",
          "text": [
            "[82.51424999999999, 91.19425, 62.712999999999994, 59.07824999999999]\n"
          ]
        }
      ],
      "source": [
        "lista_alturas = [1.95, 2.05, 1.70, 1.65]\n",
        "\n",
        "lista_peso_ideal = []\n",
        "\n",
        "# seu código\n",
        "\n",
        "for altura in lista_alturas:\n",
        "  lista_peso_ideal.append(imc_ideal * (altura**2))\n",
        "\n",
        "print (lista_peso_ideal)"
      ]
    },
    {
      "cell_type": "markdown",
      "metadata": {
        "id": "-OgVjpxd6WFc"
      },
      "source": [
        "### 09 - Peso ideal 4\n",
        "Dada uma lista de tuplas - cada elemento da lista é uma tupla contendo altura e peso de um paciente - crie uma nova lista com o IMC desses pacientes."
      ]
    },
    {
      "cell_type": "code",
      "execution_count": 36,
      "metadata": {
        "colab": {
          "base_uri": "https://localhost:8080/"
        },
        "id": "TYf-Ww2O6WFc",
        "outputId": "75e308f9-ad5e-4ad0-936b-fb41fe43e4a6"
      },
      "outputs": [
        {
          "output_type": "stream",
          "name": "stdout",
          "text": [
            "[27.777777777777775, 27.548209366391188, 19.188070502453332]\n"
          ]
        }
      ],
      "source": [
        "altura_peso = [(1.80, 90), (1.65, 75), (1.91, 70)]\n",
        "imc = []\n",
        "\n",
        "# seu código\n",
        "\n",
        "for altura, peso in altura_peso:\n",
        "  imc.append(peso/(altura**2))\n",
        "\n",
        "print (imc)"
      ]
    },
    {
      "cell_type": "markdown",
      "metadata": {
        "id": "_pxFexVw6WFc"
      },
      "source": [
        "### 10 - Peso ideal 5\n",
        "Dada uma lista de **listas** - cada elemento da lista é uma **lista** contendo altura e peso de um paciente, adicione mais um elemento à lista de cada paciente contendo o IMC do paciente. Verifique também se é 'baixo', 'normal' ou 'alto' segundo os padrões da OMS em que normal é entre 18.5 e 24.9.\n",
        "\n",
        "Reflexão: por que no problema anterior temos que criar uma nova lista, e não podemos adicionar os dados de cada indivíduo à tupla?"
      ]
    },
    {
      "cell_type": "code",
      "execution_count": 45,
      "metadata": {
        "id": "kvJj6ZSr6WFd",
        "colab": {
          "base_uri": "https://localhost:8080/"
        },
        "outputId": "1d417d32-20da-45fc-ecdc-5e7176b42325"
      },
      "outputs": [
        {
          "output_type": "stream",
          "name": "stdout",
          "text": [
            "IMC:  27.777777777777775 acima do peso\n",
            "IMC:  27.548209366391188 acima do peso\n",
            "IMC:  19.188070502453332 peso normal\n"
          ]
        }
      ],
      "source": [
        "altura_peso = [[1.80, 90], [1.65, 75], [1.91, 70]]\n",
        "imc = []\n",
        "\n",
        "for altura, peso in altura_peso:\n",
        "  imc.append(peso/(altura**2))\n",
        "\n",
        "for imc in imc:\n",
        "    \n",
        "  if imc < 17:\n",
        "    print('IMC: ',imc,'muito abaixo do peso')\n",
        "  elif imc < 18.5:\n",
        "    print('IMC: ',imc,'abaixo do peso')\n",
        "  elif imc < 25:\n",
        "    print('IMC: ',imc,'peso normal')\n",
        "  else:\n",
        "    print('IMC: ',imc,'acima do peso')\n",
        "    "
      ]
    },
    {
      "cell_type": "markdown",
      "source": [
        "Reflexão: por que no problema anterior temos que criar uma nova lista, e não podemos adicionar os dados de cada indivíduo à tupla?\n",
        "R: As tuplas são imutáveis é por esta razão não podemos acrescentar novos elementos a ela como fazemos com listas que podem ser manipuladas. \n"
      ],
      "metadata": {
        "id": "2qTkrbtAwkpM"
      }
    }
  ],
  "metadata": {
    "kernelspec": {
      "display_name": "Python 3 (ipykernel)",
      "language": "python",
      "name": "python3"
    },
    "language_info": {
      "codemirror_mode": {
        "name": "ipython",
        "version": 3
      },
      "file_extension": ".py",
      "mimetype": "text/x-python",
      "name": "python",
      "nbconvert_exporter": "python",
      "pygments_lexer": "ipython3",
      "version": "3.9.13"
    },
    "colab": {
      "provenance": []
    }
  },
  "nbformat": 4,
  "nbformat_minor": 0
}